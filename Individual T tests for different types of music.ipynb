{
 "cells": [
  {
   "cell_type": "code",
   "execution_count": 5,
   "id": "2bb4c1b0",
   "metadata": {},
   "outputs": [
    {
     "name": "stdout",
     "output_type": "stream",
     "text": [
      "t-test between Q2 and Q3\n",
      "t-statistic: -2.0804432880540533\n",
      "p-value: 0.056332172722160866\n",
      "t-test between Q2 and Q4\n",
      "t-statistic: -2.3683900698953306\n",
      "p-value: 0.03279252970243419\n",
      "t-test between Q2 and Q5\n",
      "t-statistic: 6.064801578107744\n",
      "p-value: 2.912466597076727e-05\n",
      "t-test between Q3 and Q4\n",
      "t-statistic: -0.4034732923929645\n",
      "p-value: 0.6926949791400578\n",
      "t-test between Q3 and Q5\n",
      "t-statistic: 7.890700722669492\n",
      "p-value: 1.6067012177523597e-06\n",
      "t-test between Q4 and Q5\n",
      "t-statistic: 7.560864148142504\n",
      "p-value: 2.6255187754070477e-06\n"
     ]
    }
   ],
   "source": [
    "import pandas as pd\n",
    "import scipy.stats as stats\n",
    "\n",
    "data = pd.read_csv(\"C:/Users/Brian Lee/Documents/K,Jpop.csv\")\n",
    "\n",
    "# Get column names\n",
    "columns = list(data.columns)\n",
    "\n",
    "# Perform t-tests on all possible pairs of columns\n",
    "for i in range(len(columns)):\n",
    "    for j in range(i+1, len(columns)):\n",
    "        sample1 = data[columns[i]].tolist()\n",
    "        sample2 = data[columns[j]].tolist()\n",
    "        t_statistic, p_value = stats.ttest_ind(sample1, sample2)\n",
    "        print(\"t-test between\", columns[i], \"and\", columns[j])\n",
    "        print(\"t-statistic:\", t_statistic)\n",
    "        print(\"p-value:\", p_value)"
   ]
  },
  {
   "cell_type": "code",
   "execution_count": 6,
   "id": "79990f7d",
   "metadata": {},
   "outputs": [
    {
     "name": "stdout",
     "output_type": "stream",
     "text": [
      "t-test between Q2 and Q3\n",
      "t-statistic: -2.5384615384615388\n",
      "p-value: 0.020590234135149155\n",
      "t-test between Q2 and Q4\n",
      "t-statistic: -2.7774602993176547\n",
      "p-value: 0.01242188337192347\n",
      "t-test between Q2 and Q5\n",
      "t-statistic: 9.0\n",
      "p-value: 4.4042787291820526e-08\n",
      "t-test between Q3 and Q4\n",
      "t-statistic: -0.2075143391598226\n",
      "p-value: 0.8379378556799146\n",
      "t-test between Q3 and Q5\n",
      "t-statistic: 10.246950765959598\n",
      "p-value: 6.127533280425264e-09\n",
      "t-test between Q4 and Q5\n",
      "t-statistic: 10.590271297461937\n",
      "p-value: 3.6686917127830624e-09\n"
     ]
    }
   ],
   "source": [
    "data = pd.read_csv(\"C:/Users/Brian Lee/Documents/Jazz.csv\")\n",
    "\n",
    "# Get column names\n",
    "columns = list(data.columns)\n",
    "\n",
    "# Perform t-tests on all possible pairs of columns\n",
    "for i in range(len(columns)):\n",
    "    for j in range(i+1, len(columns)):\n",
    "        sample1 = data[columns[i]].tolist()\n",
    "        sample2 = data[columns[j]].tolist()\n",
    "        t_statistic, p_value = stats.ttest_ind(sample1, sample2)\n",
    "        print(\"t-test between\", columns[i], \"and\", columns[j])\n",
    "        print(\"t-statistic:\", t_statistic)\n",
    "        print(\"p-value:\", p_value)"
   ]
  },
  {
   "cell_type": "code",
   "execution_count": 7,
   "id": "6d35ce23",
   "metadata": {},
   "outputs": [
    {
     "name": "stdout",
     "output_type": "stream",
     "text": [
      "t-test between Q2 and Q3\n",
      "t-statistic: -4.537975356806497\n",
      "p-value: 5.093539839703918e-05\n",
      "t-test between Q2 and Q4\n",
      "t-statistic: -3.985266984930428\n",
      "p-value: 0.0002779708260834455\n",
      "t-test between Q2 and Q5\n",
      "t-statistic: 6.135719910778962\n",
      "p-value: 3.045780496720418e-07\n",
      "t-test between Q3 and Q4\n",
      "t-statistic: 0.0\n",
      "p-value: 1.0\n",
      "t-test between Q3 and Q5\n",
      "t-statistic: 11.375543287009497\n",
      "p-value: 4.1335250423472e-14\n",
      "t-test between Q4 and Q5\n",
      "t-statistic: 9.219544457292887\n",
      "p-value: 1.9063292648553735e-11\n"
     ]
    }
   ],
   "source": [
    "data = pd.read_csv(\"C:/Users/Brian Lee/Documents/rap.csv\")\n",
    "\n",
    "# Get column names\n",
    "columns = list(data.columns)\n",
    "\n",
    "# Perform t-tests on all possible pairs of columns\n",
    "for i in range(len(columns)):\n",
    "    for j in range(i+1, len(columns)):\n",
    "        sample1 = data[columns[i]].tolist()\n",
    "        sample2 = data[columns[j]].tolist()\n",
    "        t_statistic, p_value = stats.ttest_ind(sample1, sample2)\n",
    "        print(\"t-test between\", columns[i], \"and\", columns[j])\n",
    "        print(\"t-statistic:\", t_statistic)\n",
    "        print(\"p-value:\", p_value)"
   ]
  },
  {
   "cell_type": "code",
   "execution_count": 8,
   "id": "9e1d26ff",
   "metadata": {},
   "outputs": [
    {
     "name": "stdout",
     "output_type": "stream",
     "text": [
      "t-test between Q2 and Q3\n",
      "t-statistic: 15.754527228867524\n",
      "p-value: 5.44168650353686e-23\n",
      "t-test between Q2 and Q4\n",
      "t-statistic: 15.49654339337832\n",
      "p-value: 1.209059815954082e-22\n",
      "t-test between Q2 and Q5\n",
      "t-statistic: inf\n",
      "p-value: 0.0\n",
      "t-test between Q3 and Q4\n",
      "t-statistic: -0.7798128673650537\n",
      "p-value: 0.4385663881499253\n",
      "t-test between Q3 and Q5\n",
      "t-statistic: 17.544814413966105\n",
      "p-value: 2.6535551830897776e-25\n",
      "t-test between Q4 and Q5\n",
      "t-statistic: 19.654152596479815\n",
      "p-value: 7.897207567077163e-28\n"
     ]
    }
   ],
   "source": [
    "data = pd.read_csv(\"C:/Users/Brian Lee/Documents/rock.csv\")\n",
    "\n",
    "# Get column names\n",
    "columns = list(data.columns)\n",
    "\n",
    "# Perform t-tests on all possible pairs of columns\n",
    "for i in range(len(columns)):\n",
    "    for j in range(i+1, len(columns)):\n",
    "        sample1 = data[columns[i]].tolist()\n",
    "        sample2 = data[columns[j]].tolist()\n",
    "        t_statistic, p_value = stats.ttest_ind(sample1, sample2)\n",
    "        print(\"t-test between\", columns[i], \"and\", columns[j])\n",
    "        print(\"t-statistic:\", t_statistic)\n",
    "        print(\"p-value:\", p_value)"
   ]
  },
  {
   "cell_type": "code",
   "execution_count": 11,
   "id": "449fbfb8",
   "metadata": {},
   "outputs": [
    {
     "name": "stdout",
     "output_type": "stream",
     "text": [
      "t-test between Q1 and Q3\n",
      "t-statistic: nan\n",
      "p-value: nan\n",
      "t-test between Q1 and Q4\n",
      "t-statistic: nan\n",
      "p-value: nan\n",
      "t-test between Q1 and Q5\n",
      "t-statistic: nan\n",
      "p-value: nan\n",
      "t-test between Q3 and Q4\n",
      "t-statistic: nan\n",
      "p-value: nan\n",
      "t-test between Q3 and Q5\n",
      "t-statistic: nan\n",
      "p-value: nan\n",
      "t-test between Q4 and Q5\n",
      "t-statistic: nan\n",
      "p-value: nan\n"
     ]
    }
   ],
   "source": [
    "data = pd.read_csv(\"C:/Users/Brian Lee/Documents/classic.csv\")\n",
    "\n",
    "# Get column names\n",
    "columns = list(data.columns)\n",
    "\n",
    "# Perform t-tests on all possible pairs of columns\n",
    "for i in range(len(columns)):\n",
    "    for j in range(i+1, len(columns)):\n",
    "        sample1 = data[columns[i]].tolist()\n",
    "        sample2 = data[columns[j]].tolist()\n",
    "        t_statistic, p_value = stats.ttest_ind(sample1, sample2)\n",
    "        print(\"t-test between\", columns[i], \"and\", columns[j])\n",
    "        print(\"t-statistic:\", t_statistic)\n",
    "        print(\"p-value:\", p_value)"
   ]
  },
  {
   "cell_type": "code",
   "execution_count": null,
   "id": "7eb87b3a",
   "metadata": {},
   "outputs": [],
   "source": []
  }
 ],
 "metadata": {
  "kernelspec": {
   "display_name": "Python 3 (ipykernel)",
   "language": "python",
   "name": "python3"
  },
  "language_info": {
   "codemirror_mode": {
    "name": "ipython",
    "version": 3
   },
   "file_extension": ".py",
   "mimetype": "text/x-python",
   "name": "python",
   "nbconvert_exporter": "python",
   "pygments_lexer": "ipython3",
   "version": "3.9.7"
  }
 },
 "nbformat": 4,
 "nbformat_minor": 5
}
