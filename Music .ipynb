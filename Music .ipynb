{
 "cells": [
  {
   "cell_type": "code",
   "execution_count": 3,
   "id": "25673e52",
   "metadata": {},
   "outputs": [],
   "source": [
    "# Import the necessary libraries\n",
    "import pandas as pd\n",
    "import pingouin as pg\n",
    "\n",
    "# Load the data from the CSV file\n",
    "data = pd.read_csv(\"C:/Users/Brian Lee/Documents/Downloads/Music.csv\")\n",
    "\n",
    "# Select only the columns containing the items to be tested\n",
    "items = data[['Q1', 'Q2', 'Q3', 'Q4', 'Q5']]\n",
    "\n",
    "# Compute Cronbach's alpha\n",
    "alpha = pg.cronbach_alpha(items)"
   ]
  },
  {
   "cell_type": "code",
   "execution_count": 4,
   "id": "bef8e917",
   "metadata": {},
   "outputs": [
    {
     "name": "stdout",
     "output_type": "stream",
     "text": [
      "(0.7298701920774056, array([0.632, 0.808]))\n"
     ]
    }
   ],
   "source": [
    "print(alpha)"
   ]
  },
  {
   "cell_type": "code",
   "execution_count": 5,
   "id": "c6f74bdd",
   "metadata": {
    "scrolled": true
   },
   "outputs": [
    {
     "name": "stdout",
     "output_type": "stream",
     "text": [
      "Sample size required: 63.76561177540974\n"
     ]
    }
   ],
   "source": [
    "import statsmodels.stats.power as smp\n",
    "\n",
    "effect_size = 0.5\n",
    "alpha = 0.05\n",
    "power = 0.80\n",
    "\n",
    "nobs = smp.tt_ind_solve_power(effect_size=effect_size, alpha=alpha, power=power)\n",
    "print(\"Sample size required:\", nobs)"
   ]
  },
  {
   "cell_type": "code",
   "execution_count": 11,
   "id": "a74be2df",
   "metadata": {},
   "outputs": [
    {
     "name": "stdout",
     "output_type": "stream",
     "text": [
      "t-test between Q1 and Q2\n",
      "t-statistic: 0.2918866339566281\n",
      "p-value: 0.7707021306667879\n",
      "t-test between Q1 and Q3\n",
      "t-statistic: 0.12284390814722464\n",
      "p-value: 0.9023647775826222\n",
      "t-test between Q1 and Q4\n",
      "t-statistic: -0.24324626095404703\n",
      "p-value: 0.8080855978653168\n",
      "t-test between Q1 and Q5\n",
      "t-statistic: 20.60235947255863\n",
      "p-value: 1.1487042336407067e-49\n",
      "t-test between Q2 and Q3\n",
      "t-statistic: -0.17881979660279046\n",
      "p-value: 0.8582759437905046\n",
      "t-test between Q2 and Q4\n",
      "t-statistic: -0.5314343767377061\n",
      "p-value: 0.595758775304269\n",
      "t-test between Q2 and Q5\n",
      "t-statistic: 19.197460627697108\n",
      "p-value: 8.342933921809381e-46\n",
      "t-test between Q3 and Q4\n",
      "t-statistic: -0.37322933243449896\n",
      "p-value: 0.7094073976582844\n",
      "t-test between Q3 and Q5\n",
      "t-statistic: 21.290037622569933\n",
      "p-value: 1.6133615359869482e-51\n",
      "t-test between Q4 and Q5\n",
      "t-statistic: 21.39362139722233\n",
      "p-value: 8.52872186293989e-52\n"
     ]
    }
   ],
   "source": [
    "import pandas as pd\n",
    "import scipy.stats as stats\n",
    "\n",
    "data = pd.read_csv(\"C:/Users/Brian Lee/Documents/Downloads/Music.csv\", usecols=range(1, 6))\n",
    "\n",
    "# Get column names\n",
    "columns = list(data.columns)\n",
    "\n",
    "# Perform t-tests on all possible pairs of columns\n",
    "for i in range(len(columns)):\n",
    "    for j in range(i+1, len(columns)):\n",
    "        sample1 = data[columns[i]].tolist()\n",
    "        sample2 = data[columns[j]].tolist()\n",
    "        t_statistic, p_value = stats.ttest_ind(sample1, sample2)\n",
    "        print(\"t-test between\", columns[i], \"and\", columns[j])\n",
    "        print(\"t-statistic:\", t_statistic)\n",
    "        print(\"p-value:\", p_value)\n"
   ]
  },
  {
   "cell_type": "code",
   "execution_count": 13,
   "id": "77a1c4fb",
   "metadata": {},
   "outputs": [],
   "source": [
    "import pip\n"
   ]
  },
  {
   "cell_type": "code",
   "execution_count": 15,
   "id": "2a920803",
   "metadata": {},
   "outputs": [
    {
     "data": {
      "text/plain": [
       "0"
      ]
     },
     "execution_count": 15,
     "metadata": {},
     "output_type": "execute_result"
    }
   ],
   "source": [
    "import subprocess\n",
    "\n",
    "# Install the factor_analyzer module\n",
    "subprocess.check_call(['pip', 'install', 'factor_analyzer'])"
   ]
  },
  {
   "cell_type": "code",
   "execution_count": 16,
   "id": "6b986038",
   "metadata": {},
   "outputs": [
    {
     "name": "stdout",
     "output_type": "stream",
     "text": [
      "Factor Loadings:\n",
      " [[ 0.19516163  0.72423339]\n",
      " [ 0.83327568  0.11204291]\n",
      " [ 0.70828376  0.04149727]\n",
      " [-0.01690487  0.64577625]]\n",
      "\n",
      "Communalities:\n",
      " [0.56260207 0.70690198 0.50338791 0.41731274]\n"
     ]
    }
   ],
   "source": [
    "import pandas as pd\n",
    "import numpy as np\n",
    "from factor_analyzer import FactorAnalyzer\n",
    "\n",
    "\n",
    "\n",
    "# Extract variables from data\n",
    "variables = data.iloc[:, 1:]\n",
    "\n",
    "# Create a factor analyzer object and perform factor analysis\n",
    "fa = FactorAnalyzer(n_factors=2, rotation='varimax')\n",
    "fa.fit(variables)\n",
    "\n",
    "# Print factor loadings and communalities\n",
    "print(\"Factor Loadings:\\n\", fa.loadings_)\n",
    "print(\"\\nCommunalities:\\n\", fa.get_communalities())\n"
   ]
  },
  {
   "cell_type": "code",
   "execution_count": null,
   "id": "9f7d913b",
   "metadata": {},
   "outputs": [],
   "source": []
  }
 ],
 "metadata": {
  "kernelspec": {
   "display_name": "Python 3 (ipykernel)",
   "language": "python",
   "name": "python3"
  },
  "language_info": {
   "codemirror_mode": {
    "name": "ipython",
    "version": 3
   },
   "file_extension": ".py",
   "mimetype": "text/x-python",
   "name": "python",
   "nbconvert_exporter": "python",
   "pygments_lexer": "ipython3",
   "version": "3.9.7"
  }
 },
 "nbformat": 4,
 "nbformat_minor": 5
}
